{
 "cells": [
  {
   "cell_type": "code",
   "execution_count": 1,
   "id": "4bd6cd5d",
   "metadata": {},
   "outputs": [],
   "source": [
    "import mysql.connector\n",
    "import prestodb.dbapi as presto\n",
    "import pandas as pd\n",
    "import numpy as np\n",
    "import random\n",
    "import datetime"
   ]
  },
  {
   "cell_type": "markdown",
   "id": "6f4ae14b",
   "metadata": {},
   "source": [
    "# Create a Database to use"
   ]
  },
  {
   "cell_type": "code",
   "execution_count": 2,
   "id": "ffc0c906",
   "metadata": {},
   "outputs": [],
   "source": [
    "mysql = mysql.connector.connect(\n",
    "    host='mysql',\n",
    "    user='root',\n",
    "    password='mysql'\n",
    ")"
   ]
  },
  {
   "cell_type": "code",
   "execution_count": 3,
   "id": "77e1d86f",
   "metadata": {},
   "outputs": [
    {
     "data": {
      "text/plain": [
       "[]"
      ]
     },
     "execution_count": 3,
     "metadata": {},
     "output_type": "execute_result"
    }
   ],
   "source": [
    "database = \"testing_db\"\n",
    "#\n",
    "cur = mysql.cursor()\n",
    "cur.execute(f\"\"\"\n",
    "\n",
    "CREATE DATABASE IF NOT EXISTS {database}\n",
    "\n",
    "\"\"\")\n",
    "cur.fetchall()"
   ]
  },
  {
   "cell_type": "code",
   "execution_count": 4,
   "id": "6c303e4d",
   "metadata": {},
   "outputs": [
    {
     "data": {
      "text/plain": [
       "[]"
      ]
     },
     "execution_count": 4,
     "metadata": {},
     "output_type": "execute_result"
    }
   ],
   "source": [
    "cur.execute(f\"\"\"\n",
    "\n",
    "SHOW tables FROM {database}\n",
    "\n",
    "\"\"\")\n",
    "cur.fetchall()"
   ]
  },
  {
   "cell_type": "markdown",
   "id": "523bcb25",
   "metadata": {},
   "source": [
    "# Create Testing Tables"
   ]
  },
  {
   "cell_type": "code",
   "execution_count": 5,
   "id": "8bd100dc",
   "metadata": {},
   "outputs": [],
   "source": [
    "def modify_sql(sql_string):\n",
    "    sql_string = sql_string.replace(\" string\", \" varchar\")\n",
    "    return sql_string"
   ]
  },
  {
   "cell_type": "code",
   "execution_count": 6,
   "id": "83927253",
   "metadata": {},
   "outputs": [
    {
     "data": {
      "text/plain": [
       "<prestodb.dbapi.Cursor at 0x7fd84b30db50>"
      ]
     },
     "execution_count": 6,
     "metadata": {},
     "output_type": "execute_result"
    }
   ],
   "source": [
    "conn = presto.Connection(\n",
    "    host=\"presto\", \n",
    "    port=8080, \n",
    "    user=\"demo\"\n",
    ")\n",
    "cur = conn.cursor()\n",
    "cur"
   ]
  },
  {
   "cell_type": "code",
   "execution_count": 7,
   "id": "7040be82",
   "metadata": {},
   "outputs": [
    {
     "data": {
      "text/plain": [
       "[[True]]"
      ]
     },
     "execution_count": 7,
     "metadata": {},
     "output_type": "execute_result"
    }
   ],
   "source": [
    "cur.execute(modify_sql(f\"\"\"\n",
    "\n",
    "CREATE TABLE IF NOT EXISTS target_db.testing_table_1(\n",
    "    id string,\n",
    "    color string,\n",
    "    type int,\n",
    "    number_of_coins bigint,\n",
    "    measure decimal(19,3),\n",
    "    start_date date\n",
    ")\n",
    "\n",
    "\"\"\").replace(\" target_db.\",f\" mysql.{database}.\"))\n",
    "cur.fetchall()"
   ]
  },
  {
   "cell_type": "markdown",
   "id": "ed7d434f",
   "metadata": {},
   "source": [
    "# Add in Table data"
   ]
  },
  {
   "cell_type": "code",
   "execution_count": 8,
   "id": "28ea4c82",
   "metadata": {},
   "outputs": [
    {
     "data": {
      "text/plain": [
       "[['id', 'varchar', '', ''],\n",
       " ['color', 'varchar', '', ''],\n",
       " ['type', 'integer', '', ''],\n",
       " ['number_of_coins', 'bigint', '', ''],\n",
       " ['measure', 'decimal(19,3)', '', ''],\n",
       " ['start_date', 'date', '', '']]"
      ]
     },
     "execution_count": 8,
     "metadata": {},
     "output_type": "execute_result"
    }
   ],
   "source": [
    "cur.execute(modify_sql(f\"\"\"\n",
    "\n",
    "SHOW COLUMNS FROM target_db.testing_table_1\n",
    "\n",
    "\"\"\").replace(\" target_db.\",f\" mysql.{database}.\"))\n",
    "cur.fetchall()"
   ]
  },
  {
   "cell_type": "code",
   "execution_count": 9,
   "id": "e506d54e",
   "metadata": {},
   "outputs": [],
   "source": [
    "def format_table_values(df):\n",
    "    \"\"\"format a dataframe into the syle of values typical for sql\n",
    "    example: VALUES (1, 'a'), (2, 'b'), (3, 'c')\n",
    "    \"\"\"\n",
    "    sending = []\n",
    "    for i, row in df.iterrows():\n",
    "        values = []\n",
    "        for raw_value in row.tolist():\n",
    "            if (type(raw_value) == str):\n",
    "                if (raw_value.lower().startswith(\"date\")):\n",
    "                    values.append(str(raw_value))\n",
    "                else: values.append(f\"'{raw_value}'\")\n",
    "            else: values.append(str(raw_value))\n",
    "        joined_values = \", \".join(values)\n",
    "        sending.append(f\"({joined_values})\")\n",
    "        \n",
    "    if (len(sending) == 1):\n",
    "        return sending[0]        \n",
    "    else: return \", \".join(sending)"
   ]
  },
  {
   "cell_type": "code",
   "execution_count": 10,
   "id": "aa01fbba",
   "metadata": {},
   "outputs": [
    {
     "data": {
      "text/html": [
       "<div>\n",
       "<style scoped>\n",
       "    .dataframe tbody tr th:only-of-type {\n",
       "        vertical-align: middle;\n",
       "    }\n",
       "\n",
       "    .dataframe tbody tr th {\n",
       "        vertical-align: top;\n",
       "    }\n",
       "\n",
       "    .dataframe thead th {\n",
       "        text-align: right;\n",
       "    }\n",
       "</style>\n",
       "<table border=\"1\" class=\"dataframe\">\n",
       "  <thead>\n",
       "    <tr style=\"text-align: right;\">\n",
       "      <th></th>\n",
       "      <th>id</th>\n",
       "      <th>color</th>\n",
       "      <th>type</th>\n",
       "      <th>number_of_coins</th>\n",
       "      <th>measure</th>\n",
       "      <th>start_date</th>\n",
       "    </tr>\n",
       "  </thead>\n",
       "  <tbody>\n",
       "    <tr>\n",
       "      <th>0</th>\n",
       "      <td>789hij</td>\n",
       "      <td>red</td>\n",
       "      <td>7</td>\n",
       "      <td>100000</td>\n",
       "      <td>1.00</td>\n",
       "      <td>date('2021-11-22')</td>\n",
       "    </tr>\n",
       "    <tr>\n",
       "      <th>1</th>\n",
       "      <td>789hij</td>\n",
       "      <td>red</td>\n",
       "      <td>7</td>\n",
       "      <td>200000</td>\n",
       "      <td>0.54</td>\n",
       "      <td>date('2021-11-23')</td>\n",
       "    </tr>\n",
       "    <tr>\n",
       "      <th>2</th>\n",
       "      <td>123abc</td>\n",
       "      <td>blue</td>\n",
       "      <td>7</td>\n",
       "      <td>300000</td>\n",
       "      <td>-0.42</td>\n",
       "      <td>date('2021-11-24')</td>\n",
       "    </tr>\n",
       "    <tr>\n",
       "      <th>3</th>\n",
       "      <td>123abc</td>\n",
       "      <td>red</td>\n",
       "      <td>7</td>\n",
       "      <td>400000</td>\n",
       "      <td>-0.99</td>\n",
       "      <td>date('2021-11-25')</td>\n",
       "    </tr>\n",
       "    <tr>\n",
       "      <th>4</th>\n",
       "      <td>123abc</td>\n",
       "      <td>red</td>\n",
       "      <td>7</td>\n",
       "      <td>500000</td>\n",
       "      <td>-0.65</td>\n",
       "      <td>date('2021-11-26')</td>\n",
       "    </tr>\n",
       "    <tr>\n",
       "      <th>5</th>\n",
       "      <td>456dfg</td>\n",
       "      <td>blue</td>\n",
       "      <td>7</td>\n",
       "      <td>600000</td>\n",
       "      <td>0.28</td>\n",
       "      <td>date('2021-11-27')</td>\n",
       "    </tr>\n",
       "    <tr>\n",
       "      <th>6</th>\n",
       "      <td>456dfg</td>\n",
       "      <td>blue</td>\n",
       "      <td>7</td>\n",
       "      <td>700000</td>\n",
       "      <td>0.96</td>\n",
       "      <td>date('2021-11-28')</td>\n",
       "    </tr>\n",
       "    <tr>\n",
       "      <th>7</th>\n",
       "      <td>789hij</td>\n",
       "      <td>blue</td>\n",
       "      <td>7</td>\n",
       "      <td>800000</td>\n",
       "      <td>0.75</td>\n",
       "      <td>date('2021-11-29')</td>\n",
       "    </tr>\n",
       "    <tr>\n",
       "      <th>8</th>\n",
       "      <td>123abc</td>\n",
       "      <td>blue</td>\n",
       "      <td>7</td>\n",
       "      <td>900000</td>\n",
       "      <td>-0.15</td>\n",
       "      <td>date('2021-11-30')</td>\n",
       "    </tr>\n",
       "    <tr>\n",
       "      <th>9</th>\n",
       "      <td>789hij</td>\n",
       "      <td>red</td>\n",
       "      <td>7</td>\n",
       "      <td>1000000</td>\n",
       "      <td>-0.91</td>\n",
       "      <td>date('2021-12-01')</td>\n",
       "    </tr>\n",
       "  </tbody>\n",
       "</table>\n",
       "</div>"
      ],
      "text/plain": [
       "       id color  type  number_of_coins  measure          start_date\n",
       "0  789hij   red     7           100000     1.00  date('2021-11-22')\n",
       "1  789hij   red     7           200000     0.54  date('2021-11-23')\n",
       "2  123abc  blue     7           300000    -0.42  date('2021-11-24')\n",
       "3  123abc   red     7           400000    -0.99  date('2021-11-25')\n",
       "4  123abc   red     7           500000    -0.65  date('2021-11-26')\n",
       "5  456dfg  blue     7           600000     0.28  date('2021-11-27')\n",
       "6  456dfg  blue     7           700000     0.96  date('2021-11-28')\n",
       "7  789hij  blue     7           800000     0.75  date('2021-11-29')\n",
       "8  123abc  blue     7           900000    -0.15  date('2021-11-30')\n",
       "9  789hij   red     7          1000000    -0.91  date('2021-12-01')"
      ]
     },
     "execution_count": 10,
     "metadata": {},
     "output_type": "execute_result"
    }
   ],
   "source": [
    "count = 10\n",
    "example_df = pd.DataFrame(index=range(count))\n",
    "example_df[\"id\"] = random.choices([\"123abc\",\"456dfg\",\"789hij\"], k=count)\n",
    "example_df[\"color\"] = random.choices([\"red\",\"blue\"],weights=[5, 1],k=count)\n",
    "example_df[\"type\"] = 7\n",
    "example_df[\"number_of_coins\"] = [(1 + x) * 100_000 for x in range(count)]\n",
    "example_df[\"measure\"] = [round(np.cos(m),2) for m in range(count)]\n",
    "example_df[\"start_date\"] = \"date('\"+pd.date_range(end='12/01/2021',periods=count,freq='D').astype(str)+\"')\"\n",
    "example_df"
   ]
  },
  {
   "cell_type": "code",
   "execution_count": 11,
   "id": "9f08203b",
   "metadata": {},
   "outputs": [
    {
     "data": {
      "text/plain": [
       "[[10]]"
      ]
     },
     "execution_count": 11,
     "metadata": {},
     "output_type": "execute_result"
    }
   ],
   "source": [
    "cur.execute(f\"\"\"\n",
    "\n",
    "INSERT INTO target_db.testing_table_1 VALUES {format_table_values(example_df)}\n",
    "\n",
    "\"\"\".replace(\" target_db.\",f\" mysql.{database}.\"))\n",
    "cur.fetchall()"
   ]
  },
  {
   "cell_type": "code",
   "execution_count": 12,
   "id": "1d424f7d",
   "metadata": {
    "scrolled": true
   },
   "outputs": [
    {
     "data": {
      "text/plain": [
       "[['789hij', 'red', 7, 100000, '1.000', '2021-11-22'],\n",
       " ['789hij', 'red', 7, 200000, '0.540', '2021-11-23'],\n",
       " ['123abc', 'blue', 7, 300000, '-0.420', '2021-11-24'],\n",
       " ['123abc', 'red', 7, 400000, '-0.990', '2021-11-25'],\n",
       " ['123abc', 'red', 7, 500000, '-0.650', '2021-11-26'],\n",
       " ['456dfg', 'blue', 7, 600000, '0.280', '2021-11-27'],\n",
       " ['456dfg', 'blue', 7, 700000, '0.960', '2021-11-28'],\n",
       " ['789hij', 'blue', 7, 800000, '0.750', '2021-11-29'],\n",
       " ['123abc', 'blue', 7, 900000, '-0.150', '2021-11-30'],\n",
       " ['789hij', 'red', 7, 1000000, '-0.910', '2021-12-01']]"
      ]
     },
     "execution_count": 12,
     "metadata": {},
     "output_type": "execute_result"
    }
   ],
   "source": [
    "cur.execute(modify_sql(f\"\"\"\n",
    "\n",
    "SELECT * FROM target_db.testing_table_1\n",
    "\n",
    "\"\"\").replace(\" target_db.\",f\" mysql.{database}.\"))\n",
    "cur.fetchall()"
   ]
  },
  {
   "cell_type": "code",
   "execution_count": 13,
   "id": "34f9ae31",
   "metadata": {},
   "outputs": [],
   "source": [
    "conn.close()"
   ]
  }
 ],
 "metadata": {
  "kernelspec": {
   "display_name": "Python 3 (ipykernel)",
   "language": "python",
   "name": "python3"
  },
  "language_info": {
   "codemirror_mode": {
    "name": "ipython",
    "version": 3
   },
   "file_extension": ".py",
   "mimetype": "text/x-python",
   "name": "python",
   "nbconvert_exporter": "python",
   "pygments_lexer": "ipython3",
   "version": "3.9.7"
  }
 },
 "nbformat": 4,
 "nbformat_minor": 5
}
